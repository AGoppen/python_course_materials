{
 "cells": [
  {
   "cell_type": "markdown",
   "id": "4aae3dfe",
   "metadata": {},
   "source": [
    "## Вывод (std out)"
   ]
  },
  {
   "cell_type": "code",
   "execution_count": 22,
   "id": "19d51336",
   "metadata": {},
   "outputs": [
    {
     "name": "stdout",
     "output_type": "stream",
     "text": [
      "1 new 8 old\n",
      "1new8old\n"
     ]
    }
   ],
   "source": [
    "## Напишите программу, которая вводит строки без newline или space (не забудьте что print принимает сколько угодно аргументов)\n",
    "\n",
    "# Тестовые данные\n",
    "\n",
    "# 1, 5, 8, 3 -> 1583\n",
    "# 1, \"new\", 8, \"old\" -> 1new8old\n",
    "\n",
    "inputList = [str(i) for i in input().split()]\n",
    "noSpaces = \"\"\n",
    "\n",
    "for j in inputList:\n",
    "    noSpaces += j\n",
    "\n",
    "print(noSpaces)"
   ]
  },
  {
   "cell_type": "markdown",
   "id": "c6a2735e",
   "metadata": {},
   "source": [
    "## Арифметика "
   ]
  },
  {
   "cell_type": "code",
   "execution_count": 5,
   "id": "bc23a479",
   "metadata": {},
   "outputs": [
    {
     "name": "stdout",
     "output_type": "stream",
     "text": [
      "4 1\n",
      "12 5\n",
      "8.94427190999916\n"
     ]
    }
   ],
   "source": [
    "## Расчитайте расстояние между двумя заданными точками (math.sqrt) заданными в двумерном пространстве\n",
    "\n",
    "# Тестовые данные\n",
    "\n",
    "# [0, 0], [1, 1] -> 1.4142135623730951\n",
    "# [0, 1], [1, 5] -> 4.123105625617661\n",
    "# [4, 1], [12, 5] -> 8.94427190999916\n",
    "\n",
    "from math import sqrt\n",
    "\n",
    "firstCoordinates = [int(i) for i in input().split()]\n",
    "secondCoordinates = [int(i) for i in input().split()]\n",
    "\n",
    "print(sqrt((secondCoordinates[0] - firstCoordinates[0]) ** 2 + (secondCoordinates[1] - firstCoordinates[1]) ** 2))"
   ]
  },
  {
   "cell_type": "markdown",
   "id": "6c5d4192",
   "metadata": {},
   "source": [
    "## Списки"
   ]
  },
  {
   "cell_type": "code",
   "execution_count": 21,
   "id": "ace65e2e",
   "metadata": {},
   "outputs": [
    {
     "name": "stdout",
     "output_type": "stream",
     "text": [
      "2.0\n"
     ]
    }
   ],
   "source": [
    "## Посчитайте сумму элементов в списке (только тех, что чей тип float)\n",
    "\n",
    "# Тестовые данные\n",
    "# ответ: 2\n",
    "\n",
    "color_list = [0.1,\"зеленый\", 1.6, \"белый\", 0.3, \"черный\", 7, \"2.0\"]\n",
    "\n",
    "summa = 0\n",
    "\n",
    "for i in color_list:\n",
    "    if type(i) == float:\n",
    "        summa += i\n",
    "\n",
    "print(summa)\n",
    "\n",
    "### или print(int(summa)), чтобы ответ был 2 ###\n"
   ]
  },
  {
   "cell_type": "code",
   "execution_count": 35,
   "id": "f5efd6f8",
   "metadata": {},
   "outputs": [
    {
     "name": "stdout",
     "output_type": "stream",
     "text": [
      "красный черный\n"
     ]
    }
   ],
   "source": [
    "## Отобразите с помощью print только первый и последний элемент списка (цикл while)\n",
    "\n",
    "# Тестовые данные\n",
    "\n",
    "color_list = [\"красный\",\"зеленый\",\"белый\" ,\"черный\"]\n",
    "\n",
    "print(color_list[0], color_list[-1])\n",
    "\n",
    "\n",
    "### если нужно через while: ###\n",
    "\n",
    "# cnt = 0\n",
    "\n",
    "# while cnt < len(color_list):\n",
    "    # if cnt == 0 or cnt == len(color_list) - 1:\n",
    "        # print(color_list[cnt])\n",
    "        # cnt += 1\n",
    "    # else:\n",
    "        # cnt += 1\n",
    "        # continue "
   ]
  },
  {
   "cell_type": "code",
   "execution_count": 34,
   "id": "0120e466",
   "metadata": {},
   "outputs": [
    {
     "name": "stdout",
     "output_type": "stream",
     "text": [
      "1 5 8 3\n",
      "3\n",
      "Element 3 was found\n"
     ]
    }
   ],
   "source": [
    "## Проверьте есть ли в данный элемент в списке, если есть выведите с помощью print \"Element такой то was found\", если элемента не нашлось выведите \"Clear\" (цикл while) \n",
    "\n",
    "# Тестовые данные\n",
    "\n",
    "# 3 -> [1, 5, 8, 3] -> \"Element 3 was found\"\n",
    "# -1 -> [1, 5, 8, 3] -> \"Clear\"\n",
    "# \"color\" -> [1, \"color\", 1.3, 3] ->  \"Element color was found\"\n",
    "\n",
    "\n",
    "lst = input().split()\n",
    "element = input()\n",
    "\n",
    "if element in lst:\n",
    "    print(f\"Element {element} was found\")\n",
    "else:\n",
    "    print(\"Clear\")\n",
    "    \n",
    "\n",
    "### если нужно через while: ###\n",
    "\n",
    "# lst = input().split()\n",
    "# element = input()\n",
    "# cnt = 0\n",
    "\n",
    "# while cnt < len(lst):\n",
    "    # if element not in lst:\n",
    "        # print(\"Clear\")\n",
    "        # break\n",
    "    # if lst[cnt] == element:\n",
    "        # print(f\"Element {element} was found\")\n",
    "        # cnt += 1\n",
    "        # continue\n",
    "    # else:\n",
    "        # cnt += 1\n",
    "        # continue"
   ]
  },
  {
   "cell_type": "code",
   "execution_count": 1,
   "id": "824424aa",
   "metadata": {},
   "outputs": [
    {
     "name": "stdout",
     "output_type": "stream",
     "text": [
      "9 caMii  /\\y4LLIii proger v 2022 roDy \n"
     ]
    }
   ],
   "source": [
    "## Пройдите по списку и объедините все элементы из списка в одну строку через пробел (цикл while)\n",
    "\n",
    "# Тестовые данные\n",
    "\n",
    "# [\"9\", \"caMii\", \" /\\y4LLIii\", \"proger\", \"v\", \"2022\", \"roDy\"] -> 9 caMii  /\\y4LLIii proger v 2022 roDy\n",
    "\n",
    "lst = [\"9\", \"caMii\", \" /\\y4LLIii\", \"proger\", \"v\", \"2022\", \"roDy\"]\n",
    "string = \"\"\n",
    "\n",
    "for i in lst:\n",
    "    string += i + \" \"\n",
    "\n",
    "print(string)\n",
    "\n",
    "\n",
    "### если нужно через while: ###\n",
    "\n",
    "# lst = [\"9\", \"caMii\", \" /\\y4LLIii\", \"proger\", \"v\", \"2022\", \"roDy\"]\n",
    "# string = \"\"\n",
    "# ind = 0\n",
    "\n",
    "# while ind < len(lst):\n",
    "    # string += lst[ind] + \" \"\n",
    "    # ind += 1\n",
    "\n",
    "# print(string)"
   ]
  },
  {
   "cell_type": "code",
   "execution_count": 3,
   "id": "1c52c4b8",
   "metadata": {},
   "outputs": [
    {
     "name": "stdout",
     "output_type": "stream",
     "text": [
      "White Red\n",
      "Black Green\n",
      "Red White\n"
     ]
    }
   ],
   "source": [
    "## Пройдите по двум списка сразу и выведите сразу по два элемента - один из одного списка, другой из другого \n",
    "## (подсказка - обращайтесь по индексу к элементам обоих списков)\n",
    "\n",
    "# Тестовые данные\n",
    "\n",
    "color_list_1 = [\"White\", \"Black\", \"Red\"]\n",
    "color_list_2 = [\"Red\", \"Green\", \"White\"]\n",
    "\n",
    "# White Red\n",
    "# Black Green\n",
    "# Red White\n",
    "\n",
    "ind = 0\n",
    "\n",
    "while ind < len(color_list_1):\n",
    "    print(color_list_1[ind], color_list_2[ind])\n",
    "    ind += 1"
   ]
  },
  {
   "cell_type": "code",
   "execution_count": 33,
   "id": "9d59ec07",
   "metadata": {},
   "outputs": [
    {
     "name": "stdout",
     "output_type": "stream",
     "text": [
      "aaabbbbbbcccccccccdddddddddddd\n"
     ]
    }
   ],
   "source": [
    "## Пройдите по списку и выводите каждый следующий элемент столько раз какой у него ((индекс + 1) * 3) в списке (цикл while) \n",
    "\n",
    "# Тестовые данные\n",
    "\n",
    "a = [\"a\", \"b\", \"c\", \"d\"] \n",
    "\n",
    "# ответ -> \"aaabbbbbbcccccccccdddddddddddd\"\n",
    "\n",
    "string = \"\"\n",
    "\n",
    "for i in a:\n",
    "    string += i * (3 * (a.index(i) + 1))\n",
    "\n",
    "print(string)\n",
    "\n",
    "### если нужно через while: ###\n",
    "\n",
    "# a = [\"a\", \"b\", \"c\", \"d\"] \n",
    "# string = \"\"\n",
    "# ind = 0\n",
    "\n",
    "# while ind < len(a):\n",
    "    # string += a[ind] * (3 * (ind + 1))\n",
    "    # ind += 1\n",
    "\n",
    "# print(string)"
   ]
  },
  {
   "cell_type": "code",
   "execution_count": 13,
   "id": "bfd569fd",
   "metadata": {},
   "outputs": [
    {
     "name": "stdout",
     "output_type": "stream",
     "text": [
      "integers -> [1, 11111]\n",
      "floats -> [2.4, 1000.0]\n",
      "strings -> ['a', 'b', 'string', 'new', 'old']\n"
     ]
    }
   ],
   "source": [
    "## Зайдите в каждый масив внутри (если это списко) и рассортируйте мне элементы по соответствующим спискам (не забудьте про append)\n",
    "\n",
    "sample = [[\"a\", \"b\", 1, 2.4], \"string\", [\"new\", 11111, 1000.0, \"old\"]]\n",
    "\n",
    "\n",
    "integers = []\n",
    "floats = []\n",
    "strings = []\n",
    "\n",
    "# ответ\n",
    "# integers -> [1, 11111]\n",
    "# floats -> [2.4, 1000.0]\n",
    "# strings -> [\"a\", \"b\", \"string\", \"new\", \"old\"]\n",
    "\n",
    "for i in sample:\n",
    "    if type(i) == list:\n",
    "        for j in i:\n",
    "            if type(j) == int:\n",
    "                integers.append(j)\n",
    "            elif type(j) == float:\n",
    "                floats.append(j)\n",
    "            elif type(j) == str:\n",
    "                strings.append(j)\n",
    "    elif type(i) == int:\n",
    "        integers.append(i)\n",
    "    elif type(i) == float:\n",
    "        floats.append(i)\n",
    "    elif type(i) == str:\n",
    "        strings.append(i)\n",
    "\n",
    "print(f\"integers -> {integers}\", f\"floats -> {floats}\", f\"strings -> {strings}\", sep=\"\\n\")\n"
   ]
  },
  {
   "cell_type": "markdown",
   "id": "4d785ec2",
   "metadata": {},
   "source": [
    "## Библиотеки "
   ]
  },
  {
   "cell_type": "code",
   "execution_count": 23,
   "id": "0937e5e0",
   "metadata": {},
   "outputs": [
    {
     "name": "stdout",
     "output_type": "stream",
     "text": [
      "Sun Oct 16 18:29:37 2022\n"
     ]
    }
   ],
   "source": [
    "## Напишите программу, которая выводит настоящее время ( то есть в ремя в которую программа запущена, используйте либу - time) \n",
    "\n",
    "# Тестовые данные (например)\n",
    "\n",
    "# 'Sat Oct  1 00:34:36 2022'\n",
    "\n",
    "import time\n",
    "seconds = time.time()\n",
    "print(time.ctime(seconds))"
   ]
  }
 ],
 "metadata": {
  "kernelspec": {
   "display_name": "Python 3 (ipykernel)",
   "language": "python",
   "name": "python3"
  },
  "language_info": {
   "codemirror_mode": {
    "name": "ipython",
    "version": 3
   },
   "file_extension": ".py",
   "mimetype": "text/x-python",
   "name": "python",
   "nbconvert_exporter": "python",
   "pygments_lexer": "ipython3",
   "version": "3.9.12"
  }
 },
 "nbformat": 4,
 "nbformat_minor": 5
}
